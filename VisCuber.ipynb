{
 "cells": [
  {
   "cell_type": "markdown",
   "metadata": {},
   "source": [
    "    <li data-checked=\"true\"><a href=\"http://gatherer.wizards.com/Pages/Card/Details.aspx?name=Sensei's%20Divining%20Top\"><img src=\"http://gatherer.wizards.com/Handlers/Image.ashx?name=Sensei's%20Divining%20Top&amp;set=&amp;type=card\" alt=\"Sensei's Divining Top\"></a></li>\n",
    "    \n",
    "        <li data-checked=\"true\"><a href=\"http://gatherer.wizards.com/Pages/Card/Details.aspx?name=Brago%2C%20King%20Eternal\"><img src=\"http://gatherer.wizards.com/Handlers/Image.ashx?name=Brago%2C%20King%20Eternal&amp;set=&amp;type=card\" alt=\"Brago, King Eternal\"></a></li>\n",
    "        \n",
    "    <li data-checked=\"true\"><a href=\"http://gatherer.wizards.com/Pages/Card/Details.aspx?name=Wear%20%2F%2F%20Tear\"><img src=\"http://gatherer.wizards.com/Handlers/Image.ashx?name=Wear%20%2F%2F%20Tear&amp;set=&amp;type=card\" alt=\"Wear // Tear\"></a></li>"
   ]
  },
  {
   "cell_type": "code",
   "execution_count": 6,
   "metadata": {
    "collapsed": false
   },
   "outputs": [],
   "source": [
    "# Create the html string that will show the card, sans the card's name.  This will be in 4 parts.\n",
    "String1 = '<li data-checked=\"true\"><a href=\"http://gatherer.wizards.com/Pages/Card/Details.aspx?name=\"'\n",
    "String2 = '\"><img src=\"http://gatherer.wizards.com/Handlers/Image.ashx?name='\n",
    "String3 = '&amp;set='\n",
    "String4 = '&amp;type=card\" alt=\"'\n",
    "StringEnd = '\"></a></li>\\n'\n",
    "\n"
   ]
  },
  {
   "cell_type": "code",
   "execution_count": 7,
   "metadata": {
    "collapsed": false
   },
   "outputs": [
    {
     "name": "stdout",
     "output_type": "stream",
     "text": [
      "Cursed Scroll (TE)\n",
      "\n",
      "TE\n",
      "Cursed Scroll\n",
      "<li data-checked=\"true\"><a href=\"http://gatherer.wizards.com/Pages/Card/Details.aspx?name=\"Cursed%20Scroll\"><img src=\"http://gatherer.wizards.com/Handlers/Image.ashx?name=Cursed%20Scroll&amp;set=TE&amp;type=card\" alt=\"Cursed Scroll\"></a></li>\n",
      "\n",
      "Cursed Scroll\n",
      "Cursed Scroll\n",
      "<li data-checked=\"true\"><a href=\"http://gatherer.wizards.com/Pages/Card/Details.aspx?name=\"Cursed%20Scroll\"><img src=\"http://gatherer.wizards.com/Handlers/Image.ashx?name=Cursed%20Scroll&amp;set=&amp;type=card\" alt=\"Cursed Scroll\"></a></li>\n",
      "\n"
     ]
    }
   ],
   "source": [
    "# Now let's open the input file and read the contents, then create the output\n",
    "InputFN = 'Input.txt'\n",
    "OutputFN = 'Output.txt'\n",
    "\n",
    "InputFile = open(InputFN, 'r')\n",
    "OutputFile = open(OutputFN, 'w')\n",
    "#print InputFile.read()\n",
    "for card in InputFile:\n",
    "    print card\n",
    "    \n",
    "    #First let's remove the set info and put it in a different string()\n",
    "    card0=card.split('(')\n",
    "    if len(card0)>1:\n",
    "        setcode = card0[1].strip()\n",
    "        setcode = setcode[:-1]\n",
    "        print setcode\n",
    "    else:\n",
    "        setcode=''\n",
    "    \n",
    "    card1 = card0[0].strip()\n",
    "    print(card1)\n",
    "    cardhtml = card1\n",
    "    ## Replace commas\n",
    "    cardhtml=cardhtml.replace(\",\",\"%2C\")\n",
    "    ## Replace //\n",
    "    cardhtml=cardhtml.replace(\"/\",\"%2F\")\n",
    "    ## Replace Spaces\n",
    "    cardhtml=cardhtml.replace(\" \",\"%20\")\n",
    "    #print cardhtml\n",
    "    htmlString = String1 + cardhtml + String2 + cardhtml + String3 + setcode + String4 + card1 + StringEnd\n",
    "    print htmlString\n",
    "    OutputFile.write(htmlString)\n",
    "\n",
    "InputFile.close()\n",
    "OutputFile.close()\n"
   ]
  },
  {
   "cell_type": "code",
   "execution_count": 3,
   "metadata": {
    "collapsed": false
   },
   "outputs": [
    {
     "name": "stdout",
     "output_type": "stream",
     "text": [
      "<li data-checked=\"true\"><a href=\"http://gatherer.wizards.com/Pages/Card/Details.aspx?name=\"Cursed%20Scroll%20(TE)\"><img src=\"http://gatherer.wizards.com/Handlers/Image.ashx?name=Cursed%20Scroll%20(TE)&amp;set=&amp;type=card\" alt=\"Cursed Scroll (TE)\"></a></li>\n",
      "\n",
      "<li data-checked=\"true\"><a href=\"http://gatherer.wizards.com/Pages/Card/Details.aspx?name=\"Cursed%20Scroll\"><img src=\"http://gatherer.wizards.com/Handlers/Image.ashx?name=Cursed%20Scroll&amp;set=&amp;type=card\" alt=\"Cursed Scroll\"></a></li>\n",
      "\n"
     ]
    }
   ],
   "source": [
    "O = open(OutputFN, 'r')\n",
    "for line in O:\n",
    "    print line"
   ]
  },
  {
   "cell_type": "code",
   "execution_count": null,
   "metadata": {
    "collapsed": true
   },
   "outputs": [],
   "source": []
  }
 ],
 "metadata": {
  "anaconda-cloud": {},
  "kernelspec": {
   "display_name": "Python [conda root]",
   "language": "python",
   "name": "conda-root-py"
  },
  "language_info": {
   "codemirror_mode": {
    "name": "ipython",
    "version": 2
   },
   "file_extension": ".py",
   "mimetype": "text/x-python",
   "name": "python",
   "nbconvert_exporter": "python",
   "pygments_lexer": "ipython2",
   "version": "2.7.12"
  }
 },
 "nbformat": 4,
 "nbformat_minor": 2
}
