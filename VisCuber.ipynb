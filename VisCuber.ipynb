{
 "cells": [
  {
   "cell_type": "markdown",
   "metadata": {},
   "source": [
    "    <li data-checked=\"true\"><a href=\"http://gatherer.wizards.com/Pages/Card/Details.aspx?name=Sensei's%20Divining%20Top\"><img src=\"http://gatherer.wizards.com/Handlers/Image.ashx?name=Sensei's%20Divining%20Top&amp;set=&amp;type=card\" alt=\"Sensei's Divining Top\"></a></li>\n",
    "    \n",
    "        <li data-checked=\"true\"><a href=\"http://gatherer.wizards.com/Pages/Card/Details.aspx?name=Brago%2C%20King%20Eternal\"><img src=\"http://gatherer.wizards.com/Handlers/Image.ashx?name=Brago%2C%20King%20Eternal&amp;set=&amp;type=card\" alt=\"Brago, King Eternal\"></a></li>\n",
    "        \n",
    "    <li data-checked=\"true\"><a href=\"http://gatherer.wizards.com/Pages/Card/Details.aspx?name=Wear%20%2F%2F%20Tear\"><img src=\"http://gatherer.wizards.com/Handlers/Image.ashx?name=Wear%20%2F%2F%20Tear&amp;set=&amp;type=card\" alt=\"Wear // Tear\"></a></li>"
   ]
  },
  {
   "cell_type": "code",
   "execution_count": 14,
   "metadata": {
    "collapsed": false
   },
   "outputs": [],
   "source": [
    "# Create the html string that will show the card, sans the card's name.  This will be in 4 parts.\n",
    "String1 = '<li data-checked=\"true\"><a href=\"http://gatherer.wizards.com/Pages/Card/Details.aspx?name=\"'\n",
    "String2 = '\"><img src=\"http://gatherer.wizards.com/Handlers/Image.ashx?name='\n",
    "String3 = '&amp;set=&amp;type=card\" alt=\"'\n",
    "StringEnd = '\"></a></li>\\n'\n",
    "\n"
   ]
  },
  {
   "cell_type": "code",
   "execution_count": 15,
   "metadata": {
    "collapsed": false
   },
   "outputs": [
    {
     "name": "stdout",
     "output_type": "stream",
     "text": [
      "<li data-checked=\"true\"><a href=\"http://gatherer.wizards.com/Pages/Card/Details.aspx?name=\"Ghostly%20Prison\"><img src=\"http://gatherer.wizards.com/Handlers/Image.ashx?name=Ghostly%20Prison&amp;set=&amp;type=card\" alt=\"Ghostly Prison\"></a></li>\n",
      "\n",
      "<li data-checked=\"true\"><a href=\"http://gatherer.wizards.com/Pages/Card/Details.aspx?name=\"Goblin%20Bombardment\"><img src=\"http://gatherer.wizards.com/Handlers/Image.ashx?name=Goblin%20Bombardment&amp;set=&amp;type=card\" alt=\"Goblin Bombardment\"></a></li>\n",
      "\n",
      "<li data-checked=\"true\"><a href=\"http://gatherer.wizards.com/Pages/Card/Details.aspx?name=\"Baral%2C%20Chief%20of%20Compliance\"><img src=\"http://gatherer.wizards.com/Handlers/Image.ashx?name=Baral%2C%20Chief%20of%20Compliance&amp;set=&amp;type=card\" alt=\"Baral, Chief of Compliance\"></a></li>\n",
      "\n",
      "<li data-checked=\"true\"><a href=\"http://gatherer.wizards.com/Pages/Card/Details.aspx?name=\"Rishkar%2C%20Peema%20Renegade\"><img src=\"http://gatherer.wizards.com/Handlers/Image.ashx?name=Rishkar%2C%20Peema%20Renegade&amp;set=&amp;type=card\" alt=\"Rishkar, Peema Renegade\"></a></li>\n",
      "\n",
      "<li data-checked=\"true\"><a href=\"http://gatherer.wizards.com/Pages/Card/Details.aspx?name=\"Ajani%20Unyielding\"><img src=\"http://gatherer.wizards.com/Handlers/Image.ashx?name=Ajani%20Unyielding&amp;set=&amp;type=card\" alt=\"Ajani Unyielding\"></a></li>\n",
      "\n",
      "<li data-checked=\"true\"><a href=\"http://gatherer.wizards.com/Pages/Card/Details.aspx?name=\"Ensnaring%20Bridge\"><img src=\"http://gatherer.wizards.com/Handlers/Image.ashx?name=Ensnaring%20Bridge&amp;set=&amp;type=card\" alt=\"Ensnaring Bridge\"></a></li>\n",
      "\n",
      "<li data-checked=\"true\"><a href=\"http://gatherer.wizards.com/Pages/Card/Details.aspx?name=\"Akroma's%20Vengeance\"><img src=\"http://gatherer.wizards.com/Handlers/Image.ashx?name=Akroma's%20Vengeance&amp;set=&amp;type=card\" alt=\"Akroma's Vengeance\"></a></li>\n",
      "\n",
      "<li data-checked=\"true\"><a href=\"http://gatherer.wizards.com/Pages/Card/Details.aspx?name=\"Open%20the%20Vaults\"><img src=\"http://gatherer.wizards.com/Handlers/Image.ashx?name=Open%20the%20Vaults&amp;set=&amp;type=card\" alt=\"Open the Vaults\"></a></li>\n",
      "\n",
      "<li data-checked=\"true\"><a href=\"http://gatherer.wizards.com/Pages/Card/Details.aspx?name=\"Bedlam%20Reveler\"><img src=\"http://gatherer.wizards.com/Handlers/Image.ashx?name=Bedlam%20Reveler&amp;set=&amp;type=card\" alt=\"Bedlam Reveler\"></a></li>\n",
      "\n",
      "<li data-checked=\"true\"><a href=\"http://gatherer.wizards.com/Pages/Card/Details.aspx?name=\"Garruk%20Wildspeaker\"><img src=\"http://gatherer.wizards.com/Handlers/Image.ashx?name=Garruk%20Wildspeaker&amp;set=&amp;type=card\" alt=\"Garruk Wildspeaker\"></a></li>\n",
      "\n",
      "<li data-checked=\"true\"><a href=\"http://gatherer.wizards.com/Pages/Card/Details.aspx?name=\"Scapeshift\"><img src=\"http://gatherer.wizards.com/Handlers/Image.ashx?name=Scapeshift&amp;set=&amp;type=card\" alt=\"Scapeshift\"></a></li>\n",
      "\n",
      "<li data-checked=\"true\"><a href=\"http://gatherer.wizards.com/Pages/Card/Details.aspx?name=\"Fireblast\"><img src=\"http://gatherer.wizards.com/Handlers/Image.ashx?name=Fireblast&amp;set=&amp;type=card\" alt=\"Fireblast\"></a></li>\n",
      "\n",
      "<li data-checked=\"true\"><a href=\"http://gatherer.wizards.com/Pages/Card/Details.aspx?name=\"Kalitas%2C%20Traitor%20of%20Ghet\"><img src=\"http://gatherer.wizards.com/Handlers/Image.ashx?name=Kalitas%2C%20Traitor%20of%20Ghet&amp;set=&amp;type=card\" alt=\"Kalitas, Traitor of Ghet\"></a></li>\n",
      "\n",
      "<li data-checked=\"true\"><a href=\"http://gatherer.wizards.com/Pages/Card/Details.aspx?name=\"Mayael%20the%20Anima\"><img src=\"http://gatherer.wizards.com/Handlers/Image.ashx?name=Mayael%20the%20Anima&amp;set=&amp;type=card\" alt=\"Mayael the Anima\"></a></li>\n",
      "\n",
      "<li data-checked=\"true\"><a href=\"http://gatherer.wizards.com/Pages/Card/Details.aspx?name=\"Prized%20Amalgam\"><img src=\"http://gatherer.wizards.com/Handlers/Image.ashx?name=Prized%20Amalgam&amp;set=&amp;type=card\" alt=\"Prized Amalgam\"></a></li>\n",
      "\n",
      "<li data-checked=\"true\"><a href=\"http://gatherer.wizards.com/Pages/Card/Details.aspx?name=\"Disallow\"><img src=\"http://gatherer.wizards.com/Handlers/Image.ashx?name=Disallow&amp;set=&amp;type=card\" alt=\"Disallow\"></a></li>\n",
      "\n",
      "<li data-checked=\"true\"><a href=\"http://gatherer.wizards.com/Pages/Card/Details.aspx?name=\"Kolaghan%2C%20Storm's%20Fury\"><img src=\"http://gatherer.wizards.com/Handlers/Image.ashx?name=Kolaghan%2C%20Storm's%20Fury&amp;set=&amp;type=card\" alt=\"Kolaghan, Storm's Fury\"></a></li>\n",
      "\n",
      "<li data-checked=\"true\"><a href=\"http://gatherer.wizards.com/Pages/Card/Details.aspx?name=\"Kaalia%20of%20the%20Vast\"><img src=\"http://gatherer.wizards.com/Handlers/Image.ashx?name=Kaalia%20of%20the%20Vast&amp;set=&amp;type=card\" alt=\"Kaalia of the Vast\"></a></li>\n",
      "\n",
      "<li data-checked=\"true\"><a href=\"http://gatherer.wizards.com/Pages/Card/Details.aspx?name=\"Terminate\"><img src=\"http://gatherer.wizards.com/Handlers/Image.ashx?name=Terminate&amp;set=&amp;type=card\" alt=\"Terminate\"></a></li>\n",
      "\n"
     ]
    }
   ],
   "source": [
    "# Now let's open the input file and read the contents, then create the output\n",
    "InputFN = 'Input.txt'\n",
    "OutputFN = 'Output.txt'\n",
    "\n",
    "InputFile = open(InputFN, 'r')\n",
    "OutputFile = open(OutputFN, 'w')\n",
    "#print InputFile.read()\n",
    "for card in InputFile:\n",
    "    #print card\n",
    "    card1 = card.strip()\n",
    "    cardhtml = card1\n",
    "    ## Replace commas\n",
    "    cardhtml=cardhtml.replace(\",\",\"%2C\")\n",
    "    ## Replace //\n",
    "    cardhtml=cardhtml.replace(\"/\",\"%2F\")\n",
    "    ## Replace Spaces\n",
    "    cardhtml=cardhtml.replace(\" \",\"%20\")\n",
    "    #print cardhtml\n",
    "    htmlString = String1 + cardhtml + String2 + cardhtml + String3 + card1 + StringEnd\n",
    "    print htmlString\n",
    "    OutputFile.write(htmlString)\n",
    "\n",
    "InputFile.close()\n",
    "OutputFile.close()\n"
   ]
  },
  {
   "cell_type": "code",
   "execution_count": 16,
   "metadata": {
    "collapsed": false
   },
   "outputs": [
    {
     "name": "stdout",
     "output_type": "stream",
     "text": [
      "<li data-checked=\"true\"><a href=\"http://gatherer.wizards.com/Pages/Card/Details.aspx?name=\"Ghostly%20Prison\"><img src=\"http://gatherer.wizards.com/Handlers/Image.ashx?name=Ghostly%20Prison&amp;set=&amp;type=card\" alt=\"Ghostly Prison\"></a></li>\n",
      "\n",
      "<li data-checked=\"true\"><a href=\"http://gatherer.wizards.com/Pages/Card/Details.aspx?name=\"Goblin%20Bombardment\"><img src=\"http://gatherer.wizards.com/Handlers/Image.ashx?name=Goblin%20Bombardment&amp;set=&amp;type=card\" alt=\"Goblin Bombardment\"></a></li>\n",
      "\n",
      "<li data-checked=\"true\"><a href=\"http://gatherer.wizards.com/Pages/Card/Details.aspx?name=\"Baral%2C%20Chief%20of%20Compliance\"><img src=\"http://gatherer.wizards.com/Handlers/Image.ashx?name=Baral%2C%20Chief%20of%20Compliance&amp;set=&amp;type=card\" alt=\"Baral, Chief of Compliance\"></a></li>\n",
      "\n",
      "<li data-checked=\"true\"><a href=\"http://gatherer.wizards.com/Pages/Card/Details.aspx?name=\"Rishkar%2C%20Peema%20Renegade\"><img src=\"http://gatherer.wizards.com/Handlers/Image.ashx?name=Rishkar%2C%20Peema%20Renegade&amp;set=&amp;type=card\" alt=\"Rishkar, Peema Renegade\"></a></li>\n",
      "\n",
      "<li data-checked=\"true\"><a href=\"http://gatherer.wizards.com/Pages/Card/Details.aspx?name=\"Ajani%20Unyielding\"><img src=\"http://gatherer.wizards.com/Handlers/Image.ashx?name=Ajani%20Unyielding&amp;set=&amp;type=card\" alt=\"Ajani Unyielding\"></a></li>\n",
      "\n",
      "<li data-checked=\"true\"><a href=\"http://gatherer.wizards.com/Pages/Card/Details.aspx?name=\"Ensnaring%20Bridge\"><img src=\"http://gatherer.wizards.com/Handlers/Image.ashx?name=Ensnaring%20Bridge&amp;set=&amp;type=card\" alt=\"Ensnaring Bridge\"></a></li>\n",
      "\n",
      "<li data-checked=\"true\"><a href=\"http://gatherer.wizards.com/Pages/Card/Details.aspx?name=\"Akroma's%20Vengeance\"><img src=\"http://gatherer.wizards.com/Handlers/Image.ashx?name=Akroma's%20Vengeance&amp;set=&amp;type=card\" alt=\"Akroma's Vengeance\"></a></li>\n",
      "\n",
      "<li data-checked=\"true\"><a href=\"http://gatherer.wizards.com/Pages/Card/Details.aspx?name=\"Open%20the%20Vaults\"><img src=\"http://gatherer.wizards.com/Handlers/Image.ashx?name=Open%20the%20Vaults&amp;set=&amp;type=card\" alt=\"Open the Vaults\"></a></li>\n",
      "\n",
      "<li data-checked=\"true\"><a href=\"http://gatherer.wizards.com/Pages/Card/Details.aspx?name=\"Bedlam%20Reveler\"><img src=\"http://gatherer.wizards.com/Handlers/Image.ashx?name=Bedlam%20Reveler&amp;set=&amp;type=card\" alt=\"Bedlam Reveler\"></a></li>\n",
      "\n",
      "<li data-checked=\"true\"><a href=\"http://gatherer.wizards.com/Pages/Card/Details.aspx?name=\"Garruk%20Wildspeaker\"><img src=\"http://gatherer.wizards.com/Handlers/Image.ashx?name=Garruk%20Wildspeaker&amp;set=&amp;type=card\" alt=\"Garruk Wildspeaker\"></a></li>\n",
      "\n",
      "<li data-checked=\"true\"><a href=\"http://gatherer.wizards.com/Pages/Card/Details.aspx?name=\"Scapeshift\"><img src=\"http://gatherer.wizards.com/Handlers/Image.ashx?name=Scapeshift&amp;set=&amp;type=card\" alt=\"Scapeshift\"></a></li>\n",
      "\n",
      "<li data-checked=\"true\"><a href=\"http://gatherer.wizards.com/Pages/Card/Details.aspx?name=\"Fireblast\"><img src=\"http://gatherer.wizards.com/Handlers/Image.ashx?name=Fireblast&amp;set=&amp;type=card\" alt=\"Fireblast\"></a></li>\n",
      "\n",
      "<li data-checked=\"true\"><a href=\"http://gatherer.wizards.com/Pages/Card/Details.aspx?name=\"Kalitas%2C%20Traitor%20of%20Ghet\"><img src=\"http://gatherer.wizards.com/Handlers/Image.ashx?name=Kalitas%2C%20Traitor%20of%20Ghet&amp;set=&amp;type=card\" alt=\"Kalitas, Traitor of Ghet\"></a></li>\n",
      "\n",
      "<li data-checked=\"true\"><a href=\"http://gatherer.wizards.com/Pages/Card/Details.aspx?name=\"Mayael%20the%20Anima\"><img src=\"http://gatherer.wizards.com/Handlers/Image.ashx?name=Mayael%20the%20Anima&amp;set=&amp;type=card\" alt=\"Mayael the Anima\"></a></li>\n",
      "\n",
      "<li data-checked=\"true\"><a href=\"http://gatherer.wizards.com/Pages/Card/Details.aspx?name=\"Prized%20Amalgam\"><img src=\"http://gatherer.wizards.com/Handlers/Image.ashx?name=Prized%20Amalgam&amp;set=&amp;type=card\" alt=\"Prized Amalgam\"></a></li>\n",
      "\n",
      "<li data-checked=\"true\"><a href=\"http://gatherer.wizards.com/Pages/Card/Details.aspx?name=\"Disallow\"><img src=\"http://gatherer.wizards.com/Handlers/Image.ashx?name=Disallow&amp;set=&amp;type=card\" alt=\"Disallow\"></a></li>\n",
      "\n",
      "<li data-checked=\"true\"><a href=\"http://gatherer.wizards.com/Pages/Card/Details.aspx?name=\"Kolaghan%2C%20Storm's%20Fury\"><img src=\"http://gatherer.wizards.com/Handlers/Image.ashx?name=Kolaghan%2C%20Storm's%20Fury&amp;set=&amp;type=card\" alt=\"Kolaghan, Storm's Fury\"></a></li>\n",
      "\n",
      "<li data-checked=\"true\"><a href=\"http://gatherer.wizards.com/Pages/Card/Details.aspx?name=\"Kaalia%20of%20the%20Vast\"><img src=\"http://gatherer.wizards.com/Handlers/Image.ashx?name=Kaalia%20of%20the%20Vast&amp;set=&amp;type=card\" alt=\"Kaalia of the Vast\"></a></li>\n",
      "\n",
      "<li data-checked=\"true\"><a href=\"http://gatherer.wizards.com/Pages/Card/Details.aspx?name=\"Terminate\"><img src=\"http://gatherer.wizards.com/Handlers/Image.ashx?name=Terminate&amp;set=&amp;type=card\" alt=\"Terminate\"></a></li>\n",
      "\n"
     ]
    }
   ],
   "source": [
    "O = open(OutputFN, 'r')\n",
    "for line in O:\n",
    "    print line"
   ]
  },
  {
   "cell_type": "code",
   "execution_count": null,
   "metadata": {
    "collapsed": true
   },
   "outputs": [],
   "source": []
  }
 ],
 "metadata": {
  "kernelspec": {
   "display_name": "Python [conda root]",
   "language": "python",
   "name": "conda-root-py"
  },
  "language_info": {
   "codemirror_mode": {
    "name": "ipython",
    "version": 2
   },
   "file_extension": ".py",
   "mimetype": "text/x-python",
   "name": "python",
   "nbconvert_exporter": "python",
   "pygments_lexer": "ipython2",
   "version": "2.7.12"
  }
 },
 "nbformat": 4,
 "nbformat_minor": 2
}
